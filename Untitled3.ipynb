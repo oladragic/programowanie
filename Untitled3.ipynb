{
  "nbformat": 4,
  "nbformat_minor": 0,
  "metadata": {
    "colab": {
      "provenance": [],
      "authorship_tag": "ABX9TyNOWy3UMSKGOxLl93SAhVJr",
      "include_colab_link": true
    },
    "kernelspec": {
      "name": "python3",
      "display_name": "Python 3"
    },
    "language_info": {
      "name": "python"
    }
  },
  "cells": [
    {
      "cell_type": "markdown",
      "metadata": {
        "id": "view-in-github",
        "colab_type": "text"
      },
      "source": [
        "<a href=\"https://colab.research.google.com/github/oladragic/programowanie/blob/main/Untitled3.ipynb\" target=\"_parent\"><img src=\"https://colab.research.google.com/assets/colab-badge.svg\" alt=\"Open In Colab\"/></a>"
      ]
    },
    {
      "cell_type": "markdown",
      "source": [
        "Zadanie 1"
      ],
      "metadata": {
        "id": "AM8Cre8QLWH4"
      }
    },
    {
      "cell_type": "code",
      "execution_count": 14,
      "metadata": {
        "id": "kP-bkxvdLUjh"
      },
      "outputs": [],
      "source": [
        "x = \"Uwielbiam zajęcia z programowania\""
      ]
    },
    {
      "cell_type": "markdown",
      "source": [
        "a"
      ],
      "metadata": {
        "id": "xIiX5bbLLoc1"
      }
    },
    {
      "cell_type": "code",
      "source": [
        "print(x[13:23])"
      ],
      "metadata": {
        "id": "EB83-uatLn44",
        "colab": {
          "base_uri": "https://localhost:8080/"
        },
        "outputId": "905313b9-a4dd-4dab-8c85-eef6a661eb42"
      },
      "execution_count": 15,
      "outputs": [
        {
          "output_type": "stream",
          "name": "stdout",
          "text": [
            "ęcia z pro\n"
          ]
        }
      ]
    },
    {
      "cell_type": "markdown",
      "source": [
        "b"
      ],
      "metadata": {
        "id": "gcR0MipANT3-"
      }
    },
    {
      "cell_type": "code",
      "source": [
        "print(x[-33:])"
      ],
      "metadata": {
        "id": "X7hE97o6NUx6",
        "colab": {
          "base_uri": "https://localhost:8080/"
        },
        "outputId": "4d3e03e1-8659-412b-fb1b-5d89e0b0cf35"
      },
      "execution_count": 16,
      "outputs": [
        {
          "output_type": "stream",
          "name": "stdout",
          "text": [
            "Uwielbiam zajęcia z programowania\n"
          ]
        }
      ]
    },
    {
      "cell_type": "markdown",
      "source": [
        "c"
      ],
      "metadata": {
        "id": "qLB5hwR8NaOD"
      }
    },
    {
      "cell_type": "code",
      "source": [
        "print(x[1:40:3])"
      ],
      "metadata": {
        "colab": {
          "base_uri": "https://localhost:8080/"
        },
        "id": "co5a7_17NZsL",
        "outputId": "298fe0da-fea4-4557-efee-e543563094a5"
      },
      "execution_count": 17,
      "outputs": [
        {
          "output_type": "stream",
          "name": "stdout",
          "text": [
            "wlazęa oawi\n"
          ]
        }
      ]
    },
    {
      "cell_type": "markdown",
      "source": [
        "Zadanie 2"
      ],
      "metadata": {
        "id": "8HiTAFvjNsJ8"
      }
    },
    {
      "cell_type": "code",
      "source": [
        "y = \"Czarny to mój ulubiony kolor, niestety, kolor czarny bardzo szybko spiera się z moich ubrań\""
      ],
      "metadata": {
        "id": "NZ9Zzk-DNv2I"
      },
      "execution_count": 18,
      "outputs": []
    },
    {
      "cell_type": "markdown",
      "source": [
        "a"
      ],
      "metadata": {
        "id": "Vht_w-mdNtRH"
      }
    },
    {
      "cell_type": "code",
      "source": [
        "print(y.isupper())"
      ],
      "metadata": {
        "id": "OAb9nMq9OOD4",
        "colab": {
          "base_uri": "https://localhost:8080/"
        },
        "outputId": "223a99ed-24ea-4c26-c8e8-a4886eb75005"
      },
      "execution_count": 19,
      "outputs": [
        {
          "output_type": "stream",
          "name": "stdout",
          "text": [
            "False\n"
          ]
        }
      ]
    },
    {
      "cell_type": "markdown",
      "source": [
        "b"
      ],
      "metadata": {
        "id": "4P1y2BfROh7r"
      }
    },
    {
      "cell_type": "code",
      "source": [
        "print(y.startswith(\"C\"))"
      ],
      "metadata": {
        "id": "-USSeTU7OhBS",
        "colab": {
          "base_uri": "https://localhost:8080/"
        },
        "outputId": "18cbf396-26ea-4020-f131-0ff70ac63a96"
      },
      "execution_count": 20,
      "outputs": [
        {
          "output_type": "stream",
          "name": "stdout",
          "text": [
            "True\n"
          ]
        }
      ]
    },
    {
      "cell_type": "markdown",
      "source": [
        "c"
      ],
      "metadata": {
        "id": "p8AvXADjVGAu"
      }
    },
    {
      "cell_type": "code",
      "source": [
        "print(y.replace(\"Czarny\", \"Biały\").replace(\"czarny\", \"biały\"))"
      ],
      "metadata": {
        "colab": {
          "base_uri": "https://localhost:8080/"
        },
        "id": "E3WONxphVGub",
        "outputId": "af6d605c-48d6-431f-95fa-ebe7440baffd"
      },
      "execution_count": 21,
      "outputs": [
        {
          "output_type": "stream",
          "name": "stdout",
          "text": [
            "Biały to mój ulubiony kolor, niestety, kolor biały bardzo szybko spiera się z moich ubrań\n"
          ]
        }
      ]
    }
  ]
}