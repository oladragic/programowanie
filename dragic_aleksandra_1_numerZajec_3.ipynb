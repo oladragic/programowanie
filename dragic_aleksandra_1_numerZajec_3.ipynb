{
  "nbformat": 4,
  "nbformat_minor": 0,
  "metadata": {
    "colab": {
      "provenance": []
    },
    "kernelspec": {
      "name": "python3",
      "display_name": "Python 3"
    },
    "language_info": {
      "name": "python"
    }
  },
  "cells": [
    {
      "cell_type": "code",
      "execution_count": null,
      "metadata": {
        "id": "w6ZBBEpfQElS"
      },
      "outputs": [],
      "source": [
        "Zajęcia 3"
      ]
    },
    {
      "cell_type": "markdown",
      "source": [
        "Zadanie 1"
      ],
      "metadata": {
        "id": "KIgRuT36QG9S"
      }
    },
    {
      "cell_type": "markdown",
      "source": [
        "a."
      ],
      "metadata": {
        "id": "PoLWDqgSQKYl"
      }
    },
    {
      "cell_type": "code",
      "source": [
        "imie = input(\"Podaj imię: \")\n",
        "if imie.isalpha():\n",
        "  print(imie)\n",
        "else:\n",
        "  print (\"Błąd\")"
      ],
      "metadata": {
        "colab": {
          "base_uri": "https://localhost:8080/"
        },
        "id": "m4UxZtXUQJSV",
        "outputId": "04d87c5c-dffa-4e44-c5d2-b34ba4054386"
      },
      "execution_count": 9,
      "outputs": [
        {
          "output_type": "stream",
          "name": "stdout",
          "text": [
            "Podaj imię: Ola\n",
            "Ola\n"
          ]
        }
      ]
    },
    {
      "cell_type": "markdown",
      "source": [
        "b"
      ],
      "metadata": {
        "id": "CH5kEiMPAJkV"
      }
    },
    {
      "cell_type": "code",
      "source": [
        "nazwisko = input(\"Podaj nazwisko: \")\n",
        "if nazwisko.isalpha():\n",
        "  print (nazwisko)\n",
        "else:\n",
        "  print(\"Błąd\")"
      ],
      "metadata": {
        "colab": {
          "base_uri": "https://localhost:8080/"
        },
        "id": "fyI23yGqQGsC",
        "outputId": "cb1322da-07e3-4bea-dc87-85396b466a06"
      },
      "execution_count": 8,
      "outputs": [
        {
          "output_type": "stream",
          "name": "stdout",
          "text": [
            "Podaj nazwisko: Dragić\n",
            "Dragić\n"
          ]
        }
      ]
    },
    {
      "cell_type": "markdown",
      "source": [
        "c"
      ],
      "metadata": {
        "id": "jdtswm93ATFQ"
      }
    },
    {
      "cell_type": "code",
      "source": [
        "wiek = input (\"Podaj wiek: \")\n",
        "if wiek.isdigit():\n",
        "  print (wiek)\n",
        "else:\n",
        "  print (\"Błąd\")"
      ],
      "metadata": {
        "id": "4bSqpeyXAULO"
      },
      "execution_count": null,
      "outputs": []
    },
    {
      "cell_type": "markdown",
      "source": [
        "d"
      ],
      "metadata": {
        "id": "DozmOdeaAgV3"
      }
    },
    {
      "cell_type": "code",
      "source": [
        "haslo = input(\"Podaj hasło:\")\n",
        "powtorz_haslo = input(\"Powtórz hasło: \")\n",
        "if haslo == powtorz_haslo:\n",
        "  print (\"Hasło prawidłowe\")\n",
        "else:\n",
        "  print (\"Nieprawidłowe hasło\")"
      ],
      "metadata": {
        "id": "j3_CASwLAgHR"
      },
      "execution_count": null,
      "outputs": []
    },
    {
      "cell_type": "markdown",
      "source": [
        "e"
      ],
      "metadata": {
        "id": "_eQNDDKAAj0N"
      }
    },
    {
      "cell_type": "code",
      "source": [],
      "metadata": {
        "id": "N1cJPt4Z-iUO"
      },
      "execution_count": null,
      "outputs": []
    },
    {
      "cell_type": "code",
      "source": [
        "print(\"Dane użytkownika:\")\n",
        "print(\"Imię:\", imie)\n",
        "print(\"Nazwisko:\", nazwisko)\n",
        "print(\"Wiek:\", wiek)\n",
        "print(\"Hasło:\", haslo)"
      ],
      "metadata": {
        "colab": {
          "base_uri": "https://localhost:8080/"
        },
        "id": "1lcQsAyPqlOS",
        "outputId": "03717482-cccb-4c89-d8d7-198fb9213c2f"
      },
      "execution_count": 17,
      "outputs": [
        {
          "output_type": "stream",
          "name": "stdout",
          "text": [
            "Dane użytkownika:\n",
            "Imię: Ola\n",
            "Nazwisko: Dragić\n",
            "Wiek: 23\n",
            "Hasło: eooe\n"
          ]
        }
      ]
    },
    {
      "cell_type": "markdown",
      "source": [
        "2"
      ],
      "metadata": {
        "id": "ELebti5mApqZ"
      }
    },
    {
      "cell_type": "code",
      "source": [
        "liczba1 = float(input(\"Podaj pierwszą liczbę: \"))\n",
        "liczba2 = float(input(\"Podaj drugą liczbę: \"))\n",
        "print(\"Dostępne operacje:\")\n",
        "print(\"1. Dodawanie\")\n",
        "print(\"2. Odejmowanie\")\n",
        "print(\"3. Mnożenie\")\n",
        "print(\"4. Dzielenie\")\n",
        "wybor = input(\"Wybierz numer operacji (1/2/3/4): \")\n",
        "if wybor in (\"1\", \"2\", \"3\", \"4\"):\n",
        "    if wybor == \"1\":\n",
        "        wynik = dodawanie(liczba1, liczba2)\n",
        "    elif wybor == \"2\":\n",
        "        wynik = odejmowanie(liczba1, liczba2)\n",
        "    elif wybor == \"3\":\n",
        "        wynik = mnożenie(liczba1, liczba2)\n",
        "    else:\n",
        "        wynik = dzielenie(liczba1, liczba2)\n",
        "    print(\"Wynik: \", wynik)\n",
        "else:\n",
        "  print(\"Błędny wybór operacji. Wybierz 1, 2, 3 lub 4.\")\n",
        "\n",
        "if wybor == \"+\":\n",
        "  print(liczba1+liczba2)\n",
        "elif wybor == \"-\":\n",
        "  print(liczba1-liczba2)\n",
        "elif wybor == \"*\":\n",
        "  print(liczba1*liczba2)\n",
        "elif wybor == \"/\":\n",
        "  print(liczba1/liczba2)\n",
        "if liczba2 == 0:\n",
        "  print(\"Błąd: nie można dzielić przez zero\")"
      ],
      "metadata": {
        "id": "nKH2EPjDAolN"
      },
      "execution_count": null,
      "outputs": []
    }
  ]
}