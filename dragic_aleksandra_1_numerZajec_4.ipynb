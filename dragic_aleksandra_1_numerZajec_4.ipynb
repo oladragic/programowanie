{
  "nbformat": 4,
  "nbformat_minor": 0,
  "metadata": {
    "colab": {
      "provenance": []
    },
    "kernelspec": {
      "name": "python3",
      "display_name": "Python 3"
    },
    "language_info": {
      "name": "python"
    }
  },
  "cells": [
    {
      "cell_type": "markdown",
      "source": [
        "Zadanie 1"
      ],
      "metadata": {
        "id": "kPcgpNYnwjHb"
      }
    },
    {
      "cell_type": "code",
      "source": [
        "n = 9"
      ],
      "metadata": {
        "id": "Q9D4VvJxwi26"
      },
      "execution_count": 12,
      "outputs": []
    },
    {
      "cell_type": "markdown",
      "source": [
        "Zadanie 2"
      ],
      "metadata": {
        "id": "lBxuY81LI5rW"
      }
    },
    {
      "cell_type": "code",
      "source": [
        "n = 5\n",
        "for i in range(1, n +1):\n",
        "  print(\"*\" * i)\n",
        "for i in range(n-1, 0, -1):\n",
        "  print(\"*\" * i)"
      ],
      "metadata": {
        "colab": {
          "base_uri": "https://localhost:8080/"
        },
        "id": "2WJTHmExI7cZ",
        "outputId": "a46edef8-9515-45a5-eb97-3fe24d99c072"
      },
      "execution_count": 11,
      "outputs": [
        {
          "output_type": "stream",
          "name": "stdout",
          "text": [
            "*\n",
            "**\n",
            "***\n",
            "****\n",
            "*****\n",
            "****\n",
            "***\n",
            "**\n",
            "*\n"
          ]
        }
      ]
    },
    {
      "cell_type": "markdown",
      "source": [
        "Zadanie 3"
      ],
      "metadata": {
        "id": "MFUI_RJQGTuV"
      }
    },
    {
      "cell_type": "code",
      "execution_count": 2,
      "metadata": {
        "id": "wMSiNHAaFiYM"
      },
      "outputs": [],
      "source": [
        "lista = [6, 2, 3, 7, 1, 12, 56, 99]"
      ]
    },
    {
      "cell_type": "markdown",
      "source": [
        "a"
      ],
      "metadata": {
        "id": "Aj9Rxyp1GvVN"
      }
    },
    {
      "cell_type": "code",
      "source": [
        "nowa_lista = []\n",
        "for element in lista:\n",
        "  if 10 <= element <= 99:\n",
        "    nowa_lista.append(str(element))\n",
        "  else:\n",
        "    nowa_lista.append(element)\n",
        "print(nowa_lista)"
      ],
      "metadata": {
        "colab": {
          "base_uri": "https://localhost:8080/"
        },
        "id": "GOK0YStisHV2",
        "outputId": "57247198-5e62-4ee8-ba7a-1690d8217ac0"
      },
      "execution_count": 6,
      "outputs": [
        {
          "output_type": "stream",
          "name": "stdout",
          "text": [
            "[6, 2, 3, 7, 1, '12', '56', '99']\n"
          ]
        }
      ]
    },
    {
      "cell_type": "markdown",
      "source": [
        "b"
      ],
      "metadata": {
        "id": "TARp1oh1Gyvh"
      }
    },
    {
      "cell_type": "code",
      "source": [
        "min(lista)"
      ],
      "metadata": {
        "id": "O-cGeMlDHoRV"
      },
      "execution_count": null,
      "outputs": []
    }
  ]
}