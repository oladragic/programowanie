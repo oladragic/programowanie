{
  "nbformat": 4,
  "nbformat_minor": 0,
  "metadata": {
    "colab": {
      "provenance": []
    },
    "kernelspec": {
      "name": "python3",
      "display_name": "Python 3"
    },
    "language_info": {
      "name": "python"
    }
  },
  "cells": [
    {
      "cell_type": "code",
      "source": [
        "#Zadanie polega na:\n",
        "# 1. Wgraniu pliku CSV z titanikiem z zeszłych zajęć\n",
        "# 2. Napisaniu własnej funkcji która zamienia cyfre 1 na string female i 0 na male\n",
        "# 3. Zastosowaniu własnej funkcji na kolumnie z df titanic \"sex\"\n",
        "# 4. Stworzenie nowej kolumny o nazwie \"sex_new\" z wartościami 0 i 1 zbudowanej na podstawie kolumny \"sex\""
      ],
      "metadata": {
        "id": "lYQco-2-qEPY"
      },
      "execution_count": 5,
      "outputs": []
    },
    {
      "cell_type": "code",
      "execution_count": 6,
      "metadata": {
        "id": "K0hDG03NqAHx"
      },
      "outputs": [],
      "source": [
        "import pandas as pd"
      ]
    },
    {
      "cell_type": "code",
      "source": [
        "df_titanic = pd.read_csv(\"/content/train.csv\")"
      ],
      "metadata": {
        "id": "Yzr84QTXqJB6"
      },
      "execution_count": 8,
      "outputs": []
    },
    {
      "cell_type": "code",
      "source": [
        "df_titanic"
      ],
      "metadata": {
        "id": "AQssuiBZrgv6"
      },
      "execution_count": null,
      "outputs": []
    },
    {
      "cell_type": "code",
      "source": [
        "df_titanic[\"Sex\"] = df_titanic[\"Sex\"].replace({\"female\": 1, \"male\": 0})\n",
        "df_titanic"
      ],
      "metadata": {
        "id": "gPLMNY1KowfM"
      },
      "execution_count": null,
      "outputs": []
    },
    {
      "cell_type": "code",
      "source": [
        "def wlasna_funkcja(Sex):\n",
        "  if Sex == \"female\":\n",
        "    return \"female\"\n",
        "  else:\n",
        "    return \"male\""
      ],
      "metadata": {
        "id": "30i4x0IAGI9C"
      },
      "execution_count": 11,
      "outputs": []
    },
    {
      "cell_type": "code",
      "source": [
        "df_titanic[\"sex_new\"] = df_titanic[\"Sex\"].apply(wlasna_funkcja)\n",
        "def wlasna_funkcja(sex_new):\n",
        "  if value == 1:\n",
        "    return \"female\"\n",
        "  else:\n",
        "    return \"male\"\n",
        "df_titanic"
      ],
      "metadata": {
        "id": "D0myHhBSDQx3"
      },
      "execution_count": null,
      "outputs": []
    }
  ]
}