{
  "nbformat": 4,
  "nbformat_minor": 0,
  "metadata": {
    "colab": {
      "provenance": []
    },
    "kernelspec": {
      "name": "python3",
      "display_name": "Python 3"
    },
    "language_info": {
      "name": "python"
    }
  },
  "cells": [
    {
      "cell_type": "code",
      "execution_count": 37,
      "metadata": {
        "id": "u9PZgZ1Y_bQR"
      },
      "outputs": [],
      "source": [
        "import re"
      ]
    },
    {
      "cell_type": "code",
      "source": [
        "tekst1 = \"Imię i nazwisko: Hubar, Patryk. Data urodzenia: 7 czerwca 1993. Numer telefonu: 123-456-789\""
      ],
      "metadata": {
        "id": "9mU22dtn_ozU"
      },
      "execution_count": 38,
      "outputs": []
    },
    {
      "cell_type": "code",
      "source": [
        "imie_nazwisko_pattern = re.compile(r\"Imię i nazwisko: (\\w+, \\w+)\\.\")\n",
        "data_urodzenia_pattern = re.compile(r\"Data urodzenia: ([\\w\\s]+ \\d{4})\\.\")\n",
        "numer_telefonu_pattern = re.compile(r\"Numer telefonu: (\\d{3}-\\d{3}-\\d{3})\")\n",
        "\n",
        "imie_nazwisko_match = imie_nazwisko_pattern.search(tekst1)\n",
        "data_urodzenia_match = data_urodzenia_pattern.search(tekst1)\n",
        "numer_telefonu_match = numer_telefonu_pattern.search(tekst1)"
      ],
      "metadata": {
        "id": "vI8QstN7AdTE"
      },
      "execution_count": 62,
      "outputs": []
    },
    {
      "cell_type": "code",
      "source": [
        "if imie_nazwisko_match:\n",
        "  imie_nazwisko_tekst1 = imie_nazwisko_match.group(1)\n",
        "  print(\"Imię i nazwisko:\", imie_nazwisko_tekst1)\n",
        "\n",
        "if data_urodzenia_match:\n",
        "  data_urodzenia_tekst1 = data_urodzenia_match.group(1)\n",
        "  print(\"Data urodzenia:\", data_urodzenia_tekst1)\n",
        "\n",
        "if numer_telefonu_match:\n",
        "  numer_telefonu_tekst1 = numer_telefonu_match.group(1)\n",
        "  print(\"Numer telefonu:\", numer_telefonu_tekst1)"
      ],
      "metadata": {
        "id": "WpVoQN0oB2z_",
        "colab": {
          "base_uri": "https://localhost:8080/"
        },
        "outputId": "cb536de4-facd-4235-a4be-b4cb29fe5d93"
      },
      "execution_count": 63,
      "outputs": [
        {
          "output_type": "stream",
          "name": "stdout",
          "text": [
            "Imię i nazwisko: Hubar, Patryk\n",
            "Data urodzenia: 7 czerwca 1993\n",
            "Numer telefonu: 123-456-789\n"
          ]
        }
      ]
    },
    {
      "cell_type": "code",
      "source": [
        "tekst2 = \"Imię i nazwisko: Mickiewicz, Adam. Data urodzenia: 22 stycznia 1877. Numer telefonu: 789456123\"\n",
        "imie_nazwisko_match = imie_nazwisko_pattern.search(tekst2)\n",
        "data_urodzenia_match = data_urodzenia_pattern.search(tekst2)\n",
        "numer_telefonu_match = numer_telefonu_pattern.search(tekst2)"
      ],
      "metadata": {
        "id": "dcbropW_WJax"
      },
      "execution_count": 64,
      "outputs": []
    },
    {
      "cell_type": "code",
      "source": [
        "if imie_nazwisko_match:\n",
        "  imie_nazwisko_tekst2 = imie_nazwisko_match.group(1)\n",
        "  print(\"Imię i nazwisko:\", imie_nazwisko_tekst2)\n",
        "\n",
        "if data_urodzenia_match:\n",
        "  data_urodzenia_tekst2 = data_urodzenia_match.group(1)\n",
        "  print(\"Data urodzenia:\", data_urodzenia_tekst2)\n",
        "\n",
        "if numer_telefonu_match:\n",
        "  numer_telefonu_tekst2 = numer_telefonu_match.group(1)\n",
        "  print(\"Numer telefonu:\", numer_telefonu_tekst2) #nie wyświetla się numer telefonu"
      ],
      "metadata": {
        "colab": {
          "base_uri": "https://localhost:8080/"
        },
        "id": "a1Gw6gX7W5sM",
        "outputId": "a7299ba6-2177-4c34-89e3-4500a1166391"
      },
      "execution_count": 65,
      "outputs": [
        {
          "output_type": "stream",
          "name": "stdout",
          "text": [
            "Imię i nazwisko: Mickiewicz, Adam\n",
            "Data urodzenia: 22 stycznia 1877\n"
          ]
        }
      ]
    }
  ]
}